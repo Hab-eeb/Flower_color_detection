{
  "nbformat": 4,
  "nbformat_minor": 0,
  "metadata": {
    "colab": {
      "name": "color_det_train",
      "provenance": [],
      "collapsed_sections": [],
      "authorship_tag": "ABX9TyNlaZ8OGrtQWcM0dH3bfz9S",
      "include_colab_link": true
    },
    "kernelspec": {
      "name": "python3",
      "display_name": "Python 3"
    },
    "language_info": {
      "name": "python"
    },
    "accelerator": "GPU",
    "gpuClass": "standard"
  },
  "cells": [
    {
      "cell_type": "markdown",
      "metadata": {
        "id": "view-in-github",
        "colab_type": "text"
      },
      "source": [
        "<a href=\"https://colab.research.google.com/github/Hab-eeb/Flower_color_detection/blob/main/color_det_train.ipynb\" target=\"_parent\"><img src=\"https://colab.research.google.com/assets/colab-badge.svg\" alt=\"Open In Colab\"/></a>"
      ]
    },
    {
      "cell_type": "markdown",
      "source": [
        "# Importing Libraries"
      ],
      "metadata": {
        "id": "s3HN2AL2SPfA"
      }
    },
    {
      "cell_type": "code",
      "source": [
        "import os\n",
        "import sys\n",
        "import datetime\n",
        "import glob as glob\n",
        "import numpy as np\n",
        "import cv2\n",
        "from collections import Counter\n",
        "import shutil\n",
        "\n",
        "# import the Keras implementations of VGG16, VGG19, InceptionV3 and Xception models\n",
        "import tensorflow \n",
        "from keras.applications.vgg16 import VGG16, preprocess_input\n",
        "from tensorflow.keras.applications import InceptionV3, ResNet50, Xception, vgg16\n",
        "from tensorflow.keras.models import Model\n",
        "from keras.layers import Dense, GlobalAveragePooling2D, Dropout, Flatten\n",
        "from keras.preprocessing.image import ImageDataGenerator, array_to_img, img_to_array, load_img\n",
        "from tensorflow.keras.optimizers import SGD\n",
        "from keras.callbacks import ModelCheckpoint, Callback\n",
        "from keras import layers, models, optimizers\n",
        "import tensorflow.keras.backend as K\n",
        "import itertools\n",
        "from itertools import tee\n",
        "from sklearn.metrics import classification_report, confusion_matrix, accuracy_score, f1_score, precision_score, recall_score\n",
        "\n",
        "#from scipy.interpolate import spline\n",
        "import pandas as pd\n",
        "import matplotlib.pyplot as plt\n",
        "#get_ipython().run_line_magic('matplotlib', 'inline')\n",
        "from sklearn.utils import class_weight"
      ],
      "metadata": {
        "id": "xGCRK_Ul2ipW"
      },
      "execution_count": 1,
      "outputs": []
    },
    {
      "cell_type": "markdown",
      "source": [
        "# Importing Dataset from google drive"
      ],
      "metadata": {
        "id": "wE1ykJrrSif8"
      }
    },
    {
      "cell_type": "code",
      "execution_count": 2,
      "metadata": {
        "colab": {
          "base_uri": "https://localhost:8080/"
        },
        "id": "GmOHPIi1wiIh",
        "outputId": "42160e23-e6df-4d33-be08-05c5941172b7"
      },
      "outputs": [
        {
          "output_type": "stream",
          "name": "stdout",
          "text": [
            "Mounted at /content/drive\n"
          ]
        }
      ],
      "source": [
        "from google.colab import drive\n",
        "import os\n",
        "drive.mount('/content/drive', force_remount=True)"
      ]
    },
    {
      "cell_type": "code",
      "source": [
        "! unzip \"/content/drive/MyDrive/Flower_Color_Detection/Orchid Flowers Dataset-v1.1.zip\""
      ],
      "metadata": {
        "id": "aXvy-AAO1zYJ"
      },
      "execution_count": null,
      "outputs": []
    },
    {
      "cell_type": "markdown",
      "source": [
        "# Model Building"
      ],
      "metadata": {
        "id": "gS4RDwbjSMMr"
      }
    },
    {
      "cell_type": "code",
      "source": [
        "# Definition for calculating class weights\n",
        "def calculating_class_weights(y_true):\n",
        "    from sklearn.utils.class_weight import compute_class_weight\n",
        "    number_dim = np.shape(y_true)[1]\n",
        "    weights = np.empty([number_dim, 2])\n",
        "    for i in range(number_dim):\n",
        "        weights[i] = compute_class_weight( class_weight='balanced',classes = [0.,1.], y = y_true[:, i])\n",
        "    return weights"
      ],
      "metadata": {
        "id": "lHbehXeGMZH6"
      },
      "execution_count": 3,
      "outputs": []
    },
    {
      "cell_type": "code",
      "source": [
        "# weighted binary cross entropy definition\n",
        "def get_weighted_loss(weights):\n",
        "    def weighted_loss(y_true, y_pred):\n",
        "        return K.mean((weights[:,0]**(1-y_true))*(weights[:,1]**(y_true))*K.binary_crossentropy(y_true, y_pred), axis=-1)\n",
        "    return weighted_loss"
      ],
      "metadata": {
        "id": "UUwOnKYeQTXf"
      },
      "execution_count": 4,
      "outputs": []
    },
    {
      "cell_type": "code",
      "source": [
        " \n",
        "images_dir = \"/content/Orchid Flowers Dataset-v1.1/Orchid_Images\"\n",
        "# Using CF1 PRIMARY version 2 color classifier\n",
        "\n",
        "# Create training images folder \n",
        "ndf = pd.read_csv(\"/content/Orchid Flowers Dataset-v1.1/Color_Classifier/Version 2/Primary_Color/CF1/Training_Data_for_Color_of_Flower.txt\",header=None)\n",
        "if os.path.exists(\"/content/train\"):\n",
        "  shutil.rmtree(\"/content/train\")\n",
        "for ind in ndf.index:\n",
        "  if os.path.exists(os.path.join(\"/content/train\",str(ndf[1][ind]))):\n",
        "    shutil.copy2(os.path.join(images_dir,str(ndf[0][ind])),os.path.join(\"/content/train\",str(ndf[1][ind])))\n",
        "  else :\n",
        "    os.makedirs(os.path.join(\"/content/train\",str(ndf[1][ind])))\n",
        "    shutil.copy2(os.path.join(images_dir,str(ndf[0][ind])),os.path.join(\"/content/train\",str(ndf[1][ind]))) \n",
        "\n",
        "# Create validation images folder\n",
        "ndf = pd.read_csv(\"/content/Orchid Flowers Dataset-v1.1/Color_Classifier/Version 2/Primary_Color/CF1/Validation_Data_for_Color_of_Flower.txt\",header=None)\n",
        "if os.path.exists(\"/content/validate\"):\n",
        "  shutil.rmtree(\"/content/validate\")\n",
        "for ind in ndf.index:\n",
        "  if os.path.exists(os.path.join(\"/content/validate\",str(ndf[1][ind]))):\n",
        "    shutil.copy2(os.path.join(images_dir,str(ndf[0][ind])),os.path.join(\"/content/validate\",str(ndf[1][ind])))\n",
        "  else :\n",
        "    os.makedirs(os.path.join(\"/content/validate\",str(ndf[1][ind])))\n",
        "    shutil.copy2(os.path.join(images_dir,str(ndf[0][ind])),os.path.join(\"/content/validate\",str(ndf[1][ind]))) \n",
        "\n",
        "# Create Testing images folder\n",
        "ndf = pd.read_csv(\"/content/Orchid Flowers Dataset-v1.1/Color_Classifier/Version 2/Primary_Color/CF1/Testing_Data_for_Color_of_Flower.txt\",header=None)\n",
        "if os.path.exists(\"/content/test\"):\n",
        "  shutil.rmtree(\"/content/test\")\n",
        "for ind in ndf.index:\n",
        "  if os.path.exists(os.path.join(\"/content/test\",str(ndf[1][ind]))):\n",
        "    shutil.copy2(os.path.join(images_dir,str(ndf[0][ind])),os.path.join(\"/content/test\",str(ndf[1][ind])))\n",
        "  else :\n",
        "    os.makedirs(os.path.join(\"/content/test\",str(ndf[1][ind])))\n",
        "    shutil.copy2(os.path.join(images_dir,str(ndf[0][ind])),os.path.join(\"/content/test\",str(ndf[1][ind]))) \n",
        "\n"
      ],
      "metadata": {
        "id": "WA0ATeXVaq_I"
      },
      "execution_count": 5,
      "outputs": []
    },
    {
      "cell_type": "code",
      "source": [
        "# [Dataset]\n",
        "# image dimensions for VGG16, VGG19 are 224, 224\n",
        "# image dimensions for InceptionV3 and Xception are 299, 299\n",
        "img_width, img_height = 224,224\n",
        "\n",
        "train_dir = '/content/train'\n",
        "validate_dir = '/content/validate'\n",
        "nb_epochs = 10\n",
        "batch_size = 64\n",
        "nb_classes = len(glob.glob(train_dir + '/*'))\n",
        "\n",
        "# get number of images in training directory\n",
        "nb_train_samples = 0\n",
        "for r, dirs, files in os.walk(train_dir):\n",
        "    for dr in dirs:\n",
        "        nb_train_samples += len(glob.glob(os.path.join(r, dr + \"/*\")))\n",
        "\n",
        "# get number of images in validation directory\n",
        "nb_validate_samples = 0\n",
        "for r, dirs, files in os.walk(validate_dir):\n",
        "    for dr in dirs:\n",
        "        nb_validate_samples += len(glob.glob(os.path.join(r, dr + \"/*\")))\n",
        "\n",
        "print(nb_train_samples)\n",
        "print(nb_validate_samples)\n",
        "print(nb_classes)"
      ],
      "metadata": {
        "colab": {
          "base_uri": "https://localhost:8080/"
        },
        "id": "L2XhHkI6QZhR",
        "outputId": "ce066524-7a2e-4bed-a254-34ef124ae722"
      },
      "execution_count": 6,
      "outputs": [
        {
          "output_type": "stream",
          "name": "stdout",
          "text": [
            "5119\n",
            "1235\n",
            "4\n"
          ]
        }
      ]
    },
    {
      "cell_type": "code",
      "source": [
        "# data pre-processing for training\n",
        "train_datagen =  ImageDataGenerator(\n",
        "    rescale = 1./255,\n",
        "    rotation_range = 20,\n",
        "    width_shift_range = 0.2,\n",
        "    height_shift_range = 0.2,\n",
        "    shear_range = 0.2,\n",
        "    zoom_range = 0.2,\n",
        "    fill_mode = 'nearest',\n",
        "    horizontal_flip = True)\n",
        "\n",
        "# data pre-processing for validation\n",
        "validate_datagen =  ImageDataGenerator(\n",
        "    rescale = 1./255,\n",
        "    rotation_range = 20,\n",
        "    width_shift_range = 0.2,\n",
        "    height_shift_range = 0.2,\n",
        "    shear_range = 0.2,\n",
        "    zoom_range = 0.2,\n",
        "    fill_mode = 'nearest',\n",
        "    horizontal_flip = True)\n",
        "\n",
        "testdatagen=ImageDataGenerator(rescale=1./255)\n",
        "\n",
        "train_gener =train_datagen.flow_from_directory(\n",
        "train_dir,\n",
        "target_size=(img_height,img_width),\n",
        "#the total amount should be divisable by batch size\n",
        "batch_size=5119,\n",
        "shuffle=False,\n",
        "class_mode= \"categorical\" )"
      ],
      "metadata": {
        "colab": {
          "base_uri": "https://localhost:8080/"
        },
        "id": "s2EmhjP6V6rA",
        "outputId": "d6d409a3-05f3-42a2-fd64-46b5ccd81e5c"
      },
      "execution_count": 7,
      "outputs": [
        {
          "output_type": "stream",
          "name": "stdout",
          "text": [
            "Found 5119 images belonging to 4 classes.\n"
          ]
        }
      ]
    },
    {
      "cell_type": "code",
      "source": [
        "# generate and store training data\n",
        "train_generator = train_datagen.flow_from_directory(\n",
        "    train_dir,\n",
        "    target_size = (img_width, img_height),\n",
        "    batch_size = batch_size)\n",
        "\n",
        "counter = Counter(train_generator.classes)                          \n",
        "max_val = float(max(counter.values()))       \n",
        "\n",
        "(train_pics,train_labels) = next(train_gener)\n",
        "class_weights = calculating_class_weights(train_labels) \n",
        "\n",
        "# generate and store validation data\n",
        "validate_generator = validate_datagen.flow_from_directory(\n",
        "    validate_dir,\n",
        "    target_size = (img_width, img_height),\n",
        "    batch_size = batch_size)"
      ],
      "metadata": {
        "colab": {
          "base_uri": "https://localhost:8080/"
        },
        "id": "OzpdlxdrWDRH",
        "outputId": "c4156d54-44ee-4395-bf74-f840482a9e70"
      },
      "execution_count": 8,
      "outputs": [
        {
          "output_type": "stream",
          "name": "stdout",
          "text": [
            "Found 5119 images belonging to 4 classes.\n",
            "Found 1235 images belonging to 4 classes.\n"
          ]
        }
      ]
    },
    {
      "cell_type": "code",
      "source": [
        "#%% define the model (see other evaluation_load file for the other models, and you can copy paste them here to use them)\n",
        "vgg16model = VGG16(\n",
        "    include_top=False,\n",
        "    weights=\"imagenet\",\n",
        "    input_shape=(img_width, img_height,3)\n",
        ")\n",
        "for layer in vgg16model.layers[:2]:\n",
        "    layer.trainable=False\n",
        "    \n",
        "vgg16model.summary()\n",
        "\n",
        "x= vgg16model.output\n",
        "x = Flatten(name='flatten')(x)\n",
        "x = Dense(512,activation='relu')(x)\n",
        "x = Dropout(0.5)(x)\n",
        "predictions= Dense(nb_classes,activation='softmax')(x)\n",
        "\n",
        "model= Model(inputs=[vgg16model.input], outputs= predictions)"
      ],
      "metadata": {
        "colab": {
          "base_uri": "https://localhost:8080/"
        },
        "id": "b3k_Mfc7WoW5",
        "outputId": "db85ae8a-9ff6-49c6-f251-fbcb3656a71b"
      },
      "execution_count": 9,
      "outputs": [
        {
          "output_type": "stream",
          "name": "stdout",
          "text": [
            "Model: \"vgg16\"\n",
            "_________________________________________________________________\n",
            " Layer (type)                Output Shape              Param #   \n",
            "=================================================================\n",
            " input_1 (InputLayer)        [(None, 224, 224, 3)]     0         \n",
            "                                                                 \n",
            " block1_conv1 (Conv2D)       (None, 224, 224, 64)      1792      \n",
            "                                                                 \n",
            " block1_conv2 (Conv2D)       (None, 224, 224, 64)      36928     \n",
            "                                                                 \n",
            " block1_pool (MaxPooling2D)  (None, 112, 112, 64)      0         \n",
            "                                                                 \n",
            " block2_conv1 (Conv2D)       (None, 112, 112, 128)     73856     \n",
            "                                                                 \n",
            " block2_conv2 (Conv2D)       (None, 112, 112, 128)     147584    \n",
            "                                                                 \n",
            " block2_pool (MaxPooling2D)  (None, 56, 56, 128)       0         \n",
            "                                                                 \n",
            " block3_conv1 (Conv2D)       (None, 56, 56, 256)       295168    \n",
            "                                                                 \n",
            " block3_conv2 (Conv2D)       (None, 56, 56, 256)       590080    \n",
            "                                                                 \n",
            " block3_conv3 (Conv2D)       (None, 56, 56, 256)       590080    \n",
            "                                                                 \n",
            " block3_pool (MaxPooling2D)  (None, 28, 28, 256)       0         \n",
            "                                                                 \n",
            " block4_conv1 (Conv2D)       (None, 28, 28, 512)       1180160   \n",
            "                                                                 \n",
            " block4_conv2 (Conv2D)       (None, 28, 28, 512)       2359808   \n",
            "                                                                 \n",
            " block4_conv3 (Conv2D)       (None, 28, 28, 512)       2359808   \n",
            "                                                                 \n",
            " block4_pool (MaxPooling2D)  (None, 14, 14, 512)       0         \n",
            "                                                                 \n",
            " block5_conv1 (Conv2D)       (None, 14, 14, 512)       2359808   \n",
            "                                                                 \n",
            " block5_conv2 (Conv2D)       (None, 14, 14, 512)       2359808   \n",
            "                                                                 \n",
            " block5_conv3 (Conv2D)       (None, 14, 14, 512)       2359808   \n",
            "                                                                 \n",
            " block5_pool (MaxPooling2D)  (None, 7, 7, 512)         0         \n",
            "                                                                 \n",
            "=================================================================\n",
            "Total params: 14,714,688\n",
            "Trainable params: 14,712,896\n",
            "Non-trainable params: 1,792\n",
            "_________________________________________________________________\n"
          ]
        }
      ]
    },
    {
      "cell_type": "code",
      "source": [
        "# To make sure you can see the f1, precision and recall scores of the validation set during training.\n",
        "class Metrics(Callback):\n",
        "    def __init__(self, validation_generator, validation_steps, threshold=0.5):\n",
        "        self.validation_generator = validation_generator\n",
        "        self.validation_steps = validation_steps or len(validation_generator)\n",
        "        self.threshold = threshold\n",
        "\n",
        "    def on_train_begin(self, logs={}):\n",
        "        self.val_f1_scores = []\n",
        "        self.val_recalls = []\n",
        "        self.val_precisions = []\n",
        "\n",
        "    def on_epoch_end(self, epoch, logs={}):\n",
        "        # duplicate generator to make sure y_true and y_pred are calculated from the same observations\n",
        "        gen_1, gen_2 = tee(self.validation_generator)\n",
        "        y_true = np.vstack(next(gen_1)[1] for _ in range(self.validation_steps)).astype('int')\n",
        "        y_pred = (self.model.predict_generator(gen_2, steps=self.validation_steps) > self.threshold).astype('int')\n",
        "        f1 = f1_score(y_true, y_pred, average='macro')\n",
        "        precision = precision_score(y_true, y_pred, average='macro')\n",
        "        recall = recall_score(y_true, y_pred, average='macro')\n",
        "        self.val_f1_scores.append(f1)\n",
        "        self.val_recalls.append(recall)\n",
        "        self.val_precisions.append(precision)\n",
        "        print(f\" - val_f1_score: {f1:.5f} - val_precision: {precision:.5f} - val_recall: {recall:.5f}\")\n",
        "        return \n",
        "\n",
        "checkpoint = ModelCheckpoint( \"weights3.{epoch:02d}.hdf5\", verbose=1, save_best_only=True, save_weights_only=False, mode='auto', save_freq=1)"
      ],
      "metadata": {
        "id": "vchn3FHDsevc"
      },
      "execution_count": 10,
      "outputs": []
    },
    {
      "cell_type": "code",
      "source": [
        "## Training\n",
        "\n",
        "\n",
        "model.compile(loss=get_weighted_loss(class_weights), optimizer=tensorflow.keras.optimizers.Adam(learning_rate = 0.00005), metrics = ['accuracy'])\n",
        "\n",
        "STEP_SIZE_TRAIN=train_generator.n//train_generator.batch_size\n",
        "STEP_SIZE_VALID=validate_generator.n//validate_generator.batch_size\n",
        "#STEP_SIZE_TEST=test_generator.n//test_generator.batch_size\n",
        "\n",
        "metrics = Metrics(validate_generator, STEP_SIZE_VALID)\n",
        "\n",
        "history = model.fit_generator(generator=train_generator,\n",
        "                    steps_per_epoch=STEP_SIZE_TRAIN,\n",
        "                    validation_data=validate_generator,\n",
        "                    validation_steps=STEP_SIZE_VALID,\n",
        "                    epochs=nb_epochs,\n",
        "                # callbacks=[metrics]\n",
        ")"
      ],
      "metadata": {
        "colab": {
          "base_uri": "https://localhost:8080/"
        },
        "id": "0UwZRAlzWuyi",
        "outputId": "40364252-8a90-490c-80ad-c90df46fe726"
      },
      "execution_count": 11,
      "outputs": [
        {
          "output_type": "stream",
          "name": "stderr",
          "text": [
            "/usr/local/lib/python3.7/dist-packages/ipykernel_launcher.py:16: UserWarning: `Model.fit_generator` is deprecated and will be removed in a future version. Please use `Model.fit`, which supports generators.\n",
            "  app.launch_new_instance()\n"
          ]
        },
        {
          "output_type": "stream",
          "name": "stdout",
          "text": [
            "Epoch 1/10\n",
            "79/79 [==============================] - 146s 2s/step - loss: 0.6665 - accuracy: 0.3234 - val_loss: 0.5645 - val_accuracy: 0.4054\n",
            "Epoch 2/10\n",
            "79/79 [==============================] - 111s 1s/step - loss: 0.5608 - accuracy: 0.4645 - val_loss: 0.5074 - val_accuracy: 0.5436\n",
            "Epoch 3/10\n",
            "79/79 [==============================] - 112s 1s/step - loss: 0.4962 - accuracy: 0.5735 - val_loss: 0.4260 - val_accuracy: 0.6505\n",
            "Epoch 4/10\n",
            "79/79 [==============================] - 111s 1s/step - loss: 0.4298 - accuracy: 0.6671 - val_loss: 0.3675 - val_accuracy: 0.7163\n",
            "Epoch 5/10\n",
            "79/79 [==============================] - 109s 1s/step - loss: 0.3815 - accuracy: 0.7225 - val_loss: 0.3705 - val_accuracy: 0.7352\n",
            "Epoch 6/10\n",
            "79/79 [==============================] - 110s 1s/step - loss: 0.3303 - accuracy: 0.7569 - val_loss: 0.3254 - val_accuracy: 0.7574\n",
            "Epoch 7/10\n",
            "79/79 [==============================] - 111s 1s/step - loss: 0.2950 - accuracy: 0.7810 - val_loss: 0.3286 - val_accuracy: 0.7599\n",
            "Epoch 8/10\n",
            "79/79 [==============================] - 111s 1s/step - loss: 0.2784 - accuracy: 0.8053 - val_loss: 0.3104 - val_accuracy: 0.7615\n",
            "Epoch 9/10\n",
            "79/79 [==============================] - 110s 1s/step - loss: 0.2400 - accuracy: 0.8348 - val_loss: 0.2827 - val_accuracy: 0.7969\n",
            "Epoch 10/10\n",
            "79/79 [==============================] - 109s 1s/step - loss: 0.2391 - accuracy: 0.8374 - val_loss: 0.2785 - val_accuracy: 0.8043\n"
          ]
        }
      ]
    },
    {
      "cell_type": "code",
      "source": [
        "#Using a random picture gotten from the internet to predict # 1 is greenish , 2 is pink/purple, 3 is yellowish white, 4 is redish, brown, orange\n",
        "im2 = cv2.imread(\"/content/istockphoto-1143546879-612x612.jpg\")\n",
        "im2 = cv2.cvtColor(im2, cv2.COLOR_BGR2RGB)\n",
        "im2 = cv2.resize(im2, (img_width, img_height)).astype(np.float32)\n",
        "im2 = np.expand_dims(im2, axis = 0)/255 \n",
        "\n",
        "np.argmax(model.predict(im2)) "
      ],
      "metadata": {
        "colab": {
          "base_uri": "https://localhost:8080/"
        },
        "id": "hgpZfCSAXYon",
        "outputId": "ac2ca1c4-8fdd-47e1-95f1-15385d30a6bb"
      },
      "execution_count": 22,
      "outputs": [
        {
          "output_type": "execute_result",
          "data": {
            "text/plain": [
              "2"
            ]
          },
          "metadata": {},
          "execution_count": 22
        }
      ]
    },
    {
      "cell_type": "code",
      "source": [
        ""
      ],
      "metadata": {
        "id": "Lp8jkVsTCsSC"
      },
      "execution_count": 22,
      "outputs": []
    },
    {
      "cell_type": "code",
      "source": [
        ""
      ],
      "metadata": {
        "id": "JWNaqWqgDBa-"
      },
      "execution_count": null,
      "outputs": []
    }
  ]
}