{
  "nbformat": 4,
  "nbformat_minor": 0,
  "metadata": {
    "colab": {
      "name": "color_det_train",
      "provenance": [],
      "collapsed_sections": [],
      "authorship_tag": "ABX9TyNZfRvBWW6pe3kLZsP7YQ/E",
      "include_colab_link": true
    },
    "kernelspec": {
      "name": "python3",
      "display_name": "Python 3"
    },
    "language_info": {
      "name": "python"
    }
  },
  "cells": [
    {
      "cell_type": "markdown",
      "metadata": {
        "id": "view-in-github",
        "colab_type": "text"
      },
      "source": [
        "<a href=\"https://colab.research.google.com/github/Hab-eeb/Flower_color_detection/blob/main/color_det_train.ipynb\" target=\"_parent\"><img src=\"https://colab.research.google.com/assets/colab-badge.svg\" alt=\"Open In Colab\"/></a>"
      ]
    },
    {
      "cell_type": "markdown",
      "source": [
        "# Importing Libraries"
      ],
      "metadata": {
        "id": "s3HN2AL2SPfA"
      }
    },
    {
      "cell_type": "code",
      "source": [
        "import os\n",
        "import sys\n",
        "import datetime\n",
        "import glob as glob\n",
        "import numpy as np\n",
        "import cv2\n",
        "from collections import Counter\n",
        "\n",
        "# import the Keras implementations of VGG16, VGG19, InceptionV3 and Xception models\n",
        "import tensorflow \n",
        "from keras.applications.vgg16 import VGG16, preprocess_input\n",
        "from tensorflow.keras.applications import InceptionV3, ResNet50, Xception\n",
        "from tensorflow.keras.models import Model\n",
        "from keras.layers import Dense, GlobalAveragePooling2D, Dropout, Flatten\n",
        "from keras.preprocessing.image import ImageDataGenerator, array_to_img, img_to_array, load_img\n",
        "from tensorflow.keras.optimizers import SGD\n",
        "from keras.callbacks import ModelCheckpoint, Callback\n",
        "from keras import layers, models, optimizers\n",
        "import tensorflow.keras.backend as K\n",
        "import itertools\n",
        "from itertools import tee\n",
        "from sklearn.metrics import classification_report, confusion_matrix, accuracy_score, f1_score, precision_score, recall_score\n",
        "\n",
        "#from scipy.interpolate import spline\n",
        "import pandas as pd\n",
        "import matplotlib.pyplot as plt\n",
        "#get_ipython().run_line_magic('matplotlib', 'inline')\n",
        "from sklearn.utils import class_weight"
      ],
      "metadata": {
        "id": "xGCRK_Ul2ipW"
      },
      "execution_count": 8,
      "outputs": []
    },
    {
      "cell_type": "markdown",
      "source": [
        "# Importing Dataset from google drive"
      ],
      "metadata": {
        "id": "wE1ykJrrSif8"
      }
    },
    {
      "cell_type": "code",
      "execution_count": 11,
      "metadata": {
        "colab": {
          "base_uri": "https://localhost:8080/"
        },
        "id": "GmOHPIi1wiIh",
        "outputId": "b1b450c5-2e16-4182-dd8f-127b38881d61"
      },
      "outputs": [
        {
          "output_type": "stream",
          "name": "stdout",
          "text": [
            "Mounted at /content/drive\n"
          ]
        }
      ],
      "source": [
        "from google.colab import drive\n",
        "import os\n",
        "drive.mount('/content/drive', force_remount=True)"
      ]
    },
    {
      "cell_type": "code",
      "source": [
        "! unzip \"/content/drive/MyDrive/Flower_Color_Detection/Orchid Flowers Dataset-v1.1.zip\""
      ],
      "metadata": {
        "id": "aXvy-AAO1zYJ"
      },
      "execution_count": null,
      "outputs": []
    },
    {
      "cell_type": "markdown",
      "source": [
        "# Model Building"
      ],
      "metadata": {
        "id": "gS4RDwbjSMMr"
      }
    },
    {
      "cell_type": "code",
      "source": [
        "# Definition for calculating class weights\n",
        "def calculating_class_weights(y_true):\n",
        "    from sklearn.utils.class_weight import compute_class_weight\n",
        "    number_dim = np.shape(y_true)[1]\n",
        "    weights = np.empty([number_dim, 2])\n",
        "    for i in range(number_dim):\n",
        "        weights[i] = compute_class_weight('balanced', [0.,1.], y_true[:, i])\n",
        "    return weights"
      ],
      "metadata": {
        "id": "lHbehXeGMZH6"
      },
      "execution_count": 14,
      "outputs": []
    },
    {
      "cell_type": "code",
      "source": [
        "# weighted binary cross entropy definition\n",
        "def get_weighted_loss(weights):\n",
        "    def weighted_loss(y_true, y_pred):\n",
        "        return K.mean((weights[:,0]**(1-y_true))*(weights[:,1]**(y_true))*K.binary_crossentropy(y_true, y_pred), axis=-1)\n",
        "    return weighted_loss"
      ],
      "metadata": {
        "id": "UUwOnKYeQTXf"
      },
      "execution_count": 15,
      "outputs": []
    },
    {
      "cell_type": "code",
      "source": [
        "# [Dataset]\n",
        "# image dimensions for VGG16, VGG19 are 224, 224\n",
        "# image dimensions for InceptionV3 and Xception are 299, 299\n",
        "img_width, img_height = 224,224\n",
        "\n",
        "train_dir = 'Training'\n",
        "validate_dir = 'Validation'\n",
        "nb_epochs = 100\n",
        "batch_size = 64\n",
        "nb_classes = len(glob.glob(train_dir + '/*'))\n",
        "\n",
        "# get number of images in training directory\n",
        "nb_train_samples = 0\n",
        "for r, dirs, files in os.walk(train_dir):\n",
        "    for dr in dirs:\n",
        "        nb_train_samples += len(glob.glob(os.path.join(r, dr + \"/*\")))\n",
        "\n",
        "# get number of images in validation directory\n",
        "nb_validate_samples = 0\n",
        "for r, dirs, files in os.walk(validate_dir):\n",
        "    for dr in dirs:\n",
        "        nb_validate_samples += len(glob.glob(os.path.join(r, dr + \"/*\")))\n",
        "\n",
        "print(nb_train_samples)\n",
        "print(nb_validate_samples)\n",
        "print(nb_classes)"
      ],
      "metadata": {
        "id": "L2XhHkI6QZhR"
      },
      "execution_count": null,
      "outputs": []
    },
    {
      "cell_type": "code",
      "source": [
        "# data pre-processing for training\n",
        "train_datagen =  ImageDataGenerator(\n",
        "    rescale = 1./255,\n",
        "    rotation_range = 20,\n",
        "    width_shift_range = 0.2,\n",
        "    height_shift_range = 0.2,\n",
        "    shear_range = 0.2,\n",
        "    zoom_range = 0.2,\n",
        "    fill_mode = 'nearest',\n",
        "    horizontal_flip = True)\n",
        "\n",
        "# data pre-processing for validation\n",
        "validate_datagen =  ImageDataGenerator(\n",
        "    rescale = 1./255,\n",
        "    rotation_range = 20,\n",
        "    width_shift_range = 0.2,\n",
        "    height_shift_range = 0.2,\n",
        "    shear_range = 0.2,\n",
        "    zoom_range = 0.2,\n",
        "    fill_mode = 'nearest',\n",
        "    horizontal_flip = True)\n",
        "\n",
        "testdatagen=ImageDataGenerator(rescale=1./255)\n",
        "\n",
        "train_gener =train_datagen.flow_from_directory(\n",
        "train_dir,\n",
        "target_size=(img_height,img_width),\n",
        "#the total amount should be divisable by batch size\n",
        "batch_size=5119,\n",
        "shuffle=False,\n",
        "class_mode= \"categorical\""
      ],
      "metadata": {
        "id": "s2EmhjP6V6rA"
      },
      "execution_count": null,
      "outputs": []
    },
    {
      "cell_type": "code",
      "source": [
        "# generate and store training data\n",
        "train_generator = train_datagen.flow_from_directory(\n",
        "    train_dir,\n",
        "    target_size = (img_width, img_height),\n",
        "    batch_size = batch_size)\n",
        "\n",
        "counter = Counter(train_generator.classes)                          \n",
        "max_val = float(max(counter.values()))       \n",
        "\n",
        "(train_pics,train_labels) = next(train_gener)\n",
        "class_weights = calculating_class_weights(train_labels) \n",
        "\n",
        "# generate and store validation data\n",
        "validate_generator = validate_datagen.flow_from_directory(\n",
        "    validate_dir,\n",
        "    target_size = (img_width, img_height),\n",
        "    batch_size = batch_size)"
      ],
      "metadata": {
        "id": "OzpdlxdrWDRH"
      },
      "execution_count": null,
      "outputs": []
    },
    {
      "cell_type": "code",
      "source": [
        "#%% define the model (see other evaluation_load file for the other models, and you can copy paste them here to use them)\n",
        "xceptionmodel = Xception(\n",
        "    include_top=False,\n",
        "    weights=\"imagenet\",\n",
        "    input_shape=(img_width, img_height,3)\n",
        ")\n",
        "for layer in xceptionmodel.layers[:2]:\n",
        "    layer.trainable=False\n",
        "    \n",
        "xceptionmodel.summary()\n",
        "\n",
        "x= xceptionmodel.output\n",
        "x = Flatten(name='flatten')(x)\n",
        "x = Dense(512,activation='relu')(x)\n",
        "x = Dropout(0.5)(x)\n",
        "predictions= Dense(nb_classes,activation='softmax')(x)\n",
        "\n",
        "model= Model(inputs=[xceptionmodel.input], outputs= predictions)"
      ],
      "metadata": {
        "id": "b3k_Mfc7WoW5"
      },
      "execution_count": null,
      "outputs": []
    },
    {
      "cell_type": "code",
      "source": [
        "## Training\n",
        "\n",
        "checkpoint = ModelCheckpoint( \"weights3.{epoch:02d}-{val_loss:.2f}.hdf5\", verbose=1, save_best_only=True, save_weights_only=False, mode='auto', period=1)\n",
        "model.compile(loss=get_weighted_loss(class_weights), optimizer=optimizers.Adam(learning_rate = 0.00005), metrics = ['accuracy'])\n",
        "\n",
        "STEP_SIZE_TRAIN=train_generator.n//train_generator.batch_size\n",
        "STEP_SIZE_VALID=validate_generator.n//validate_generator.batch_size\n",
        "#STEP_SIZE_TEST=test_generator.n//test_generator.batch_size\n",
        "\n",
        "metrics = Metrics(validate_generator, STEP_SIZE_VALID)\n",
        "\n",
        "history = model.fit_generator(generator=train_generator,\n",
        "                    steps_per_epoch=STEP_SIZE_TRAIN,\n",
        "                    validation_data=validate_generator,\n",
        "                    validation_steps=STEP_SIZE_VALID,\n",
        "                    epochs=nb_epochs,\n",
        "                # callbacks=[metrics, checkpoint]\n",
        ")"
      ],
      "metadata": {
        "id": "0UwZRAlzWuyi"
      },
      "execution_count": null,
      "outputs": []
    },
    {
      "cell_type": "code",
      "source": [
        ""
      ],
      "metadata": {
        "id": "hgpZfCSAXYon"
      },
      "execution_count": null,
      "outputs": []
    }
  ]
}