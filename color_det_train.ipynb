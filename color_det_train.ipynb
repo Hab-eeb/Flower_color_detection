{
  "nbformat": 4,
  "nbformat_minor": 0,
  "metadata": {
    "colab": {
      "name": "color_det_train",
      "provenance": [],
      "collapsed_sections": [],
      "authorship_tag": "ABX9TyO6vdRkKhkwS84p78qlmXC7",
      "include_colab_link": true
    },
    "kernelspec": {
      "name": "python3",
      "display_name": "Python 3"
    },
    "language_info": {
      "name": "python"
    },
    "accelerator": "GPU",
    "gpuClass": "standard"
  },
  "cells": [
    {
      "cell_type": "markdown",
      "metadata": {
        "id": "view-in-github",
        "colab_type": "text"
      },
      "source": [
        "<a href=\"https://colab.research.google.com/github/Hab-eeb/Flower_color_detection/blob/main/color_det_train.ipynb\" target=\"_parent\"><img src=\"https://colab.research.google.com/assets/colab-badge.svg\" alt=\"Open In Colab\"/></a>"
      ]
    },
    {
      "cell_type": "markdown",
      "source": [
        "# Importing Libraries"
      ],
      "metadata": {
        "id": "s3HN2AL2SPfA"
      }
    },
    {
      "cell_type": "code",
      "source": [
        "import os\n",
        "import sys\n",
        "import datetime\n",
        "import glob as glob\n",
        "import numpy as np\n",
        "import cv2\n",
        "from collections import Counter\n",
        "import shutil\n",
        "\n",
        "# import the Keras implementations of VGG16, VGG19, InceptionV3 and Xception models\n",
        "import tensorflow \n",
        "from keras.applications.vgg16 import VGG16, preprocess_input\n",
        "from tensorflow.keras.applications import InceptionV3, ResNet50, Xception, vgg16\n",
        "from tensorflow.keras.models import Model\n",
        "from keras.layers import Dense, GlobalAveragePooling2D, Dropout, Flatten\n",
        "from keras.preprocessing.image import ImageDataGenerator, array_to_img, img_to_array, load_img\n",
        "from tensorflow.keras.optimizers import SGD\n",
        "from keras.callbacks import ModelCheckpoint, Callback\n",
        "from keras import layers, models, optimizers\n",
        "import tensorflow.keras.backend as K\n",
        "import itertools\n",
        "from itertools import tee\n",
        "from sklearn.metrics import classification_report, confusion_matrix, accuracy_score, f1_score, precision_score, recall_score\n",
        "\n",
        "#from scipy.interpolate import spline\n",
        "import pandas as pd\n",
        "import matplotlib.pyplot as plt\n",
        "#get_ipython().run_line_magic('matplotlib', 'inline')\n",
        "from sklearn.utils import class_weight"
      ],
      "metadata": {
        "id": "xGCRK_Ul2ipW"
      },
      "execution_count": 1,
      "outputs": []
    },
    {
      "cell_type": "markdown",
      "source": [
        "# Importing Dataset from google drive"
      ],
      "metadata": {
        "id": "wE1ykJrrSif8"
      }
    },
    {
      "cell_type": "code",
      "execution_count": 2,
      "metadata": {
        "colab": {
          "base_uri": "https://localhost:8080/"
        },
        "id": "GmOHPIi1wiIh",
        "outputId": "42160e23-e6df-4d33-be08-05c5941172b7"
      },
      "outputs": [
        {
          "output_type": "stream",
          "name": "stdout",
          "text": [
            "Mounted at /content/drive\n"
          ]
        }
      ],
      "source": [
        "from google.colab import drive\n",
        "import os\n",
        "drive.mount('/content/drive', force_remount=True)"
      ]
    },
    {
      "cell_type": "code",
      "source": [
        "! unzip \"/content/drive/MyDrive/Flower_Color_Detection/Orchid Flowers Dataset-v1.1.zip\""
      ],
      "metadata": {
        "id": "aXvy-AAO1zYJ"
      },
      "execution_count": null,
      "outputs": []
    },
    {
      "cell_type": "markdown",
      "source": [
        "# Model Building"
      ],
      "metadata": {
        "id": "gS4RDwbjSMMr"
      }
    },
    {
      "cell_type": "code",
      "source": [
        "# Definition for calculating class weights\n",
        "def calculating_class_weights(y_true):\n",
        "    from sklearn.utils.class_weight import compute_class_weight\n",
        "    number_dim = np.shape(y_true)[1]\n",
        "    weights = np.empty([number_dim, 2])\n",
        "    for i in range(number_dim):\n",
        "        weights[i] = compute_class_weight( class_weight='balanced',classes = [0.,1.], y = y_true[:, i])\n",
        "    return weights"
      ],
      "metadata": {
        "id": "lHbehXeGMZH6"
      },
      "execution_count": 3,
      "outputs": []
    },
    {
      "cell_type": "code",
      "source": [
        "# weighted binary cross entropy definition\n",
        "def get_weighted_loss(weights):\n",
        "    def weighted_loss(y_true, y_pred):\n",
        "        return K.mean((weights[:,0]**(1-y_true))*(weights[:,1]**(y_true))*K.binary_crossentropy(y_true, y_pred), axis=-1)\n",
        "    return weighted_loss"
      ],
      "metadata": {
        "id": "UUwOnKYeQTXf"
      },
      "execution_count": 4,
      "outputs": []
    },
    {
      "cell_type": "code",
      "source": [
        " \n",
        "images_dir = \"/content/Orchid Flowers Dataset-v1.1/Orchid_Images\"\n",
        "# Using CF1 PRIMARY version 2 color classifier\n",
        "\n",
        "# Create training images folder \n",
        "ndf = pd.read_csv(\"/content/Orchid Flowers Dataset-v1.1/Color_Classifier/Version 2/Primary_Color/CF1/Training_Data_for_Color_of_Flower.txt\",header=None)\n",
        "if os.path.exists(\"/content/train\"):\n",
        "  shutil.rmtree(\"/content/train\")\n",
        "for ind in ndf.index:\n",
        "  if os.path.exists(os.path.join(\"/content/train\",str(ndf[1][ind]))):\n",
        "    shutil.copy2(os.path.join(images_dir,str(ndf[0][ind])),os.path.join(\"/content/train\",str(ndf[1][ind])))\n",
        "  else :\n",
        "    os.makedirs(os.path.join(\"/content/train\",str(ndf[1][ind])))\n",
        "    shutil.copy2(os.path.join(images_dir,str(ndf[0][ind])),os.path.join(\"/content/train\",str(ndf[1][ind]))) \n",
        "\n",
        "# Create validation images folder\n",
        "ndf = pd.read_csv(\"/content/Orchid Flowers Dataset-v1.1/Color_Classifier/Version 2/Primary_Color/CF1/Validation_Data_for_Color_of_Flower.txt\",header=None)\n",
        "if os.path.exists(\"/content/validate\"):\n",
        "  shutil.rmtree(\"/content/validate\")\n",
        "for ind in ndf.index:\n",
        "  if os.path.exists(os.path.join(\"/content/validate\",str(ndf[1][ind]))):\n",
        "    shutil.copy2(os.path.join(images_dir,str(ndf[0][ind])),os.path.join(\"/content/validate\",str(ndf[1][ind])))\n",
        "  else :\n",
        "    os.makedirs(os.path.join(\"/content/validate\",str(ndf[1][ind])))\n",
        "    shutil.copy2(os.path.join(images_dir,str(ndf[0][ind])),os.path.join(\"/content/validate\",str(ndf[1][ind]))) \n",
        "\n",
        "# Create Testing images folder\n",
        "ndf = pd.read_csv(\"/content/Orchid Flowers Dataset-v1.1/Color_Classifier/Version 2/Primary_Color/CF1/Testing_Data_for_Color_of_Flower.txt\",header=None)\n",
        "if os.path.exists(\"/content/test\"):\n",
        "  shutil.rmtree(\"/content/test\")\n",
        "for ind in ndf.index:\n",
        "  if os.path.exists(os.path.join(\"/content/test\",str(ndf[1][ind]))):\n",
        "    shutil.copy2(os.path.join(images_dir,str(ndf[0][ind])),os.path.join(\"/content/test\",str(ndf[1][ind])))\n",
        "  else :\n",
        "    os.makedirs(os.path.join(\"/content/test\",str(ndf[1][ind])))\n",
        "    shutil.copy2(os.path.join(images_dir,str(ndf[0][ind])),os.path.join(\"/content/test\",str(ndf[1][ind]))) \n",
        "\n"
      ],
      "metadata": {
        "id": "WA0ATeXVaq_I"
      },
      "execution_count": 5,
      "outputs": []
    },
    {
      "cell_type": "code",
      "source": [
        "# [Dataset]\n",
        "# image dimensions for VGG16, VGG19 are 224, 224\n",
        "# image dimensions for InceptionV3 and Xception are 299, 299\n",
        "img_width, img_height = 224,224\n",
        "\n",
        "train_dir = '/content/train'\n",
        "validate_dir = '/content/validate'\n",
        "nb_epochs = 10\n",
        "batch_size = 64\n",
        "nb_classes = len(glob.glob(train_dir + '/*'))\n",
        "\n",
        "# get number of images in training directory\n",
        "nb_train_samples = 0\n",
        "for r, dirs, files in os.walk(train_dir):\n",
        "    for dr in dirs:\n",
        "        nb_train_samples += len(glob.glob(os.path.join(r, dr + \"/*\")))\n",
        "\n",
        "# get number of images in validation directory\n",
        "nb_validate_samples = 0\n",
        "for r, dirs, files in os.walk(validate_dir):\n",
        "    for dr in dirs:\n",
        "        nb_validate_samples += len(glob.glob(os.path.join(r, dr + \"/*\")))\n",
        "\n",
        "print(nb_train_samples)\n",
        "print(nb_validate_samples)\n",
        "print(nb_classes)"
      ],
      "metadata": {
        "id": "L2XhHkI6QZhR"
      },
      "execution_count": 12,
      "outputs": []
    },
    {
      "cell_type": "code",
      "source": [
        "# data pre-processing for training\n",
        "train_datagen =  ImageDataGenerator(\n",
        "    rescale = 1./255,\n",
        "    rotation_range = 20,\n",
        "    width_shift_range = 0.2,\n",
        "    height_shift_range = 0.2,\n",
        "    shear_range = 0.2,\n",
        "    zoom_range = 0.2,\n",
        "    fill_mode = 'nearest',\n",
        "    horizontal_flip = True)\n",
        "\n",
        "# data pre-processing for validation\n",
        "validate_datagen =  ImageDataGenerator(\n",
        "    rescale = 1./255,\n",
        "    rotation_range = 20,\n",
        "    width_shift_range = 0.2,\n",
        "    height_shift_range = 0.2,\n",
        "    shear_range = 0.2,\n",
        "    zoom_range = 0.2,\n",
        "    fill_mode = 'nearest',\n",
        "    horizontal_flip = True)\n",
        "\n",
        "testdatagen=ImageDataGenerator(rescale=1./255)\n",
        "\n",
        "train_gener =train_datagen.flow_from_directory(\n",
        "train_dir,\n",
        "target_size=(img_height,img_width),\n",
        "#the total amount should be divisable by batch size\n",
        "batch_size=5119,\n",
        "shuffle=False,\n",
        "class_mode= \"categorical\" )"
      ],
      "metadata": {
        "colab": {
          "base_uri": "https://localhost:8080/"
        },
        "id": "s2EmhjP6V6rA",
        "outputId": "d6d409a3-05f3-42a2-fd64-46b5ccd81e5c"
      },
      "execution_count": 7,
      "outputs": [
        {
          "output_type": "stream",
          "name": "stdout",
          "text": [
            "Found 5119 images belonging to 4 classes.\n"
          ]
        }
      ]
    },
    {
      "cell_type": "code",
      "source": [
        "# generate and store training data\n",
        "train_generator = train_datagen.flow_from_directory(\n",
        "    train_dir,\n",
        "    target_size = (img_width, img_height),\n",
        "    batch_size = batch_size)\n",
        "\n",
        "counter = Counter(train_generator.classes)                          \n",
        "max_val = float(max(counter.values()))       \n",
        "\n",
        "(train_pics,train_labels) = next(train_gener)\n",
        "class_weights = calculating_class_weights(train_labels) \n",
        "\n",
        "# generate and store validation data\n",
        "validate_generator = validate_datagen.flow_from_directory(\n",
        "    validate_dir,\n",
        "    target_size = (img_width, img_height),\n",
        "    batch_size = batch_size)"
      ],
      "metadata": {
        "colab": {
          "base_uri": "https://localhost:8080/"
        },
        "id": "OzpdlxdrWDRH",
        "outputId": "c4156d54-44ee-4395-bf74-f840482a9e70"
      },
      "execution_count": 8,
      "outputs": [
        {
          "output_type": "stream",
          "name": "stdout",
          "text": [
            "Found 5119 images belonging to 4 classes.\n",
            "Found 1235 images belonging to 4 classes.\n"
          ]
        }
      ]
    },
    {
      "cell_type": "code",
      "source": [
        "#%% define the model (see other evaluation_load file for the other models, and you can copy paste them here to use them)\n",
        "vgg16model = VGG16(\n",
        "    include_top=False,\n",
        "    weights=\"imagenet\",\n",
        "    input_shape=(img_width, img_height,3)\n",
        ")\n",
        "for layer in vgg16model.layers[:2]:\n",
        "    layer.trainable=False\n",
        "    \n",
        "vgg16model.summary()\n",
        "\n",
        "x= vgg16model.output\n",
        "x = Flatten(name='flatten')(x)\n",
        "x = Dense(512,activation='relu')(x)\n",
        "x = Dropout(0.5)(x)\n",
        "predictions= Dense(nb_classes,activation='softmax')(x)\n",
        "\n",
        "model= Model(inputs=[vgg16model.input], outputs= predictions)"
      ],
      "metadata": {
        "colab": {
          "base_uri": "https://localhost:8080/"
        },
        "id": "b3k_Mfc7WoW5",
        "outputId": "db85ae8a-9ff6-49c6-f251-fbcb3656a71b"
      },
      "execution_count": 9,
      "outputs": [
        {
          "output_type": "stream",
          "name": "stdout",
          "text": [
            "Model: \"vgg16\"\n",
            "_________________________________________________________________\n",
            " Layer (type)                Output Shape              Param #   \n",
            "=================================================================\n",
            " input_1 (InputLayer)        [(None, 224, 224, 3)]     0         \n",
            "                                                                 \n",
            " block1_conv1 (Conv2D)       (None, 224, 224, 64)      1792      \n",
            "                                                                 \n",
            " block1_conv2 (Conv2D)       (None, 224, 224, 64)      36928     \n",
            "                                                                 \n",
            " block1_pool (MaxPooling2D)  (None, 112, 112, 64)      0         \n",
            "                                                                 \n",
            " block2_conv1 (Conv2D)       (None, 112, 112, 128)     73856     \n",
            "                                                                 \n",
            " block2_conv2 (Conv2D)       (None, 112, 112, 128)     147584    \n",
            "                                                                 \n",
            " block2_pool (MaxPooling2D)  (None, 56, 56, 128)       0         \n",
            "                                                                 \n",
            " block3_conv1 (Conv2D)       (None, 56, 56, 256)       295168    \n",
            "                                                                 \n",
            " block3_conv2 (Conv2D)       (None, 56, 56, 256)       590080    \n",
            "                                                                 \n",
            " block3_conv3 (Conv2D)       (None, 56, 56, 256)       590080    \n",
            "                                                                 \n",
            " block3_pool (MaxPooling2D)  (None, 28, 28, 256)       0         \n",
            "                                                                 \n",
            " block4_conv1 (Conv2D)       (None, 28, 28, 512)       1180160   \n",
            "                                                                 \n",
            " block4_conv2 (Conv2D)       (None, 28, 28, 512)       2359808   \n",
            "                                                                 \n",
            " block4_conv3 (Conv2D)       (None, 28, 28, 512)       2359808   \n",
            "                                                                 \n",
            " block4_pool (MaxPooling2D)  (None, 14, 14, 512)       0         \n",
            "                                                                 \n",
            " block5_conv1 (Conv2D)       (None, 14, 14, 512)       2359808   \n",
            "                                                                 \n",
            " block5_conv2 (Conv2D)       (None, 14, 14, 512)       2359808   \n",
            "                                                                 \n",
            " block5_conv3 (Conv2D)       (None, 14, 14, 512)       2359808   \n",
            "                                                                 \n",
            " block5_pool (MaxPooling2D)  (None, 7, 7, 512)         0         \n",
            "                                                                 \n",
            "=================================================================\n",
            "Total params: 14,714,688\n",
            "Trainable params: 14,712,896\n",
            "Non-trainable params: 1,792\n",
            "_________________________________________________________________\n"
          ]
        }
      ]
    },
    {
      "cell_type": "code",
      "source": [
        "# To make sure you can see the f1, precision and recall scores of the validation set during training.\n",
        "class Metrics(Callback):\n",
        "    def __init__(self, validation_generator, validation_steps, threshold=0.5):\n",
        "        self.validation_generator = validation_generator\n",
        "        self.validation_steps = validation_steps or len(validation_generator)\n",
        "        self.threshold = threshold\n",
        "\n",
        "    def on_train_begin(self, logs={}):\n",
        "        self.val_f1_scores = []\n",
        "        self.val_recalls = []\n",
        "        self.val_precisions = []\n",
        "\n",
        "    def on_epoch_end(self, epoch, logs={}):\n",
        "        # duplicate generator to make sure y_true and y_pred are calculated from the same observations\n",
        "        gen_1, gen_2 = tee(self.validation_generator)\n",
        "        y_true = np.vstack(next(gen_1)[1] for _ in range(self.validation_steps)).astype('int')\n",
        "        y_pred = (self.model.predict_generator(gen_2, steps=self.validation_steps) > self.threshold).astype('int')\n",
        "        f1 = f1_score(y_true, y_pred, average='macro')\n",
        "        precision = precision_score(y_true, y_pred, average='macro')\n",
        "        recall = recall_score(y_true, y_pred, average='macro')\n",
        "        self.val_f1_scores.append(f1)\n",
        "        self.val_recalls.append(recall)\n",
        "        self.val_precisions.append(precision)\n",
        "        print(f\" - val_f1_score: {f1:.5f} - val_precision: {precision:.5f} - val_recall: {recall:.5f}\")\n",
        "        return \n",
        "\n",
        "checkpoint = ModelCheckpoint( \"weights3.{epoch:02d}.hdf5\", verbose=1, save_best_only=True, save_weights_only=False, mode='auto', save_freq=1)"
      ],
      "metadata": {
        "id": "vchn3FHDsevc"
      },
      "execution_count": 10,
      "outputs": []
    },
    {
      "cell_type": "code",
      "source": [
        "## Training\n",
        "\n",
        "\n",
        "model.compile(loss=get_weighted_loss(class_weights), optimizer=tensorflow.keras.optimizers.Adam(learning_rate = 0.00005), metrics = ['accuracy'])\n",
        "\n",
        "STEP_SIZE_TRAIN=train_generator.n//train_generator.batch_size\n",
        "STEP_SIZE_VALID=validate_generator.n//validate_generator.batch_size\n",
        "#STEP_SIZE_TEST=test_generator.n//test_generator.batch_size\n",
        "\n",
        "metrics = Metrics(validate_generator, STEP_SIZE_VALID)\n",
        "\n",
        "history = model.fit_generator(generator=train_generator,\n",
        "                    steps_per_epoch=STEP_SIZE_TRAIN,\n",
        "                    validation_data=validate_generator,\n",
        "                    validation_steps=STEP_SIZE_VALID,\n",
        "                    epochs=nb_epochs,\n",
        "                # callbacks=[metrics]\n",
        ")"
      ],
      "metadata": {
        "colab": {
          "base_uri": "https://localhost:8080/"
        },
        "id": "0UwZRAlzWuyi",
        "outputId": "40364252-8a90-490c-80ad-c90df46fe726"
      },
      "execution_count": 11,
      "outputs": [
        {
          "output_type": "stream",
          "name": "stderr",
          "text": [
            "/usr/local/lib/python3.7/dist-packages/ipykernel_launcher.py:16: UserWarning: `Model.fit_generator` is deprecated and will be removed in a future version. Please use `Model.fit`, which supports generators.\n",
            "  app.launch_new_instance()\n"
          ]
        },
        {
          "output_type": "stream",
          "name": "stdout",
          "text": [
            "Epoch 1/10\n",
            "79/79 [==============================] - 146s 2s/step - loss: 0.6665 - accuracy: 0.3234 - val_loss: 0.5645 - val_accuracy: 0.4054\n",
            "Epoch 2/10\n",
            "79/79 [==============================] - 111s 1s/step - loss: 0.5608 - accuracy: 0.4645 - val_loss: 0.5074 - val_accuracy: 0.5436\n",
            "Epoch 3/10\n",
            "79/79 [==============================] - 112s 1s/step - loss: 0.4962 - accuracy: 0.5735 - val_loss: 0.4260 - val_accuracy: 0.6505\n",
            "Epoch 4/10\n",
            "79/79 [==============================] - 111s 1s/step - loss: 0.4298 - accuracy: 0.6671 - val_loss: 0.3675 - val_accuracy: 0.7163\n",
            "Epoch 5/10\n",
            "79/79 [==============================] - 109s 1s/step - loss: 0.3815 - accuracy: 0.7225 - val_loss: 0.3705 - val_accuracy: 0.7352\n",
            "Epoch 6/10\n",
            "79/79 [==============================] - 110s 1s/step - loss: 0.3303 - accuracy: 0.7569 - val_loss: 0.3254 - val_accuracy: 0.7574\n",
            "Epoch 7/10\n",
            "79/79 [==============================] - 111s 1s/step - loss: 0.2950 - accuracy: 0.7810 - val_loss: 0.3286 - val_accuracy: 0.7599\n",
            "Epoch 8/10\n",
            "79/79 [==============================] - 111s 1s/step - loss: 0.2784 - accuracy: 0.8053 - val_loss: 0.3104 - val_accuracy: 0.7615\n",
            "Epoch 9/10\n",
            "79/79 [==============================] - 110s 1s/step - loss: 0.2400 - accuracy: 0.8348 - val_loss: 0.2827 - val_accuracy: 0.7969\n",
            "Epoch 10/10\n",
            "79/79 [==============================] - 109s 1s/step - loss: 0.2391 - accuracy: 0.8374 - val_loss: 0.2785 - val_accuracy: 0.8043\n"
          ]
        }
      ]
    },
    {
      "cell_type": "code",
      "source": [
        "#Using a random picture gotten from the internet to predict # 1 is greenish , 2 is pink/purple, 3 is yellowish white, 4 is redish, brown, orange\n",
        "Color_dict = {1:\"Greenish\",2:\"Pink/Purple\",3:\"Yellowish/White\",4:\"Redish/Brown/Orange\"}\n",
        "\n",
        "im2 = cv2.imread(\"/content/istockphoto-1143546879-612x612.jpg\")\n",
        "im2 = cv2.cvtColor(im2, cv2.COLOR_BGR2RGB)\n",
        "im2 = cv2.resize(im2, (img_width, img_height)).astype(np.float32)\n",
        "im2 = np.expand_dims(im2, axis = 0)/255 \n",
        "\n",
        "Color_dict[np.argmax(loaded_model.predict(im2))] "
      ],
      "metadata": {
        "colab": {
          "base_uri": "https://localhost:8080/",
          "height": 36
        },
        "id": "hgpZfCSAXYon",
        "outputId": "3cdb36a4-1145-4e30-c2a9-137ac003d8ff"
      },
      "execution_count": 15,
      "outputs": [
        {
          "output_type": "execute_result",
          "data": {
            "text/plain": [
              "'Pink/Purple'"
            ],
            "application/vnd.google.colaboratory.intrinsic+json": {
              "type": "string"
            }
          },
          "metadata": {},
          "execution_count": 15
        }
      ]
    },
    {
      "cell_type": "code",
      "source": [
        "#Saving model parameters to be able to use it for the fast api \n",
        "# serialize model to JSON\n",
        "model_json = model.to_json()\n",
        "with open(\"n_model.json\", \"w\") as json_file:\n",
        "    json_file.write(model_json)\n",
        "# serialize weights to HDF5\n",
        "model.save_weights(\"n_model.h5\")"
      ],
      "metadata": {
        "id": "Lp8jkVsTCsSC"
      },
      "execution_count": 40,
      "outputs": []
    },
    {
      "cell_type": "code",
      "source": [
        "shutil.copy2(\"/content/n_model.h5\",\"/content/drive/MyDrive/Flower_Color_Detection\")"
      ],
      "metadata": {
        "colab": {
          "base_uri": "https://localhost:8080/",
          "height": 36
        },
        "id": "LvRHUBJ9JcIs",
        "outputId": "be84343c-0a8b-481b-b509-3bb0e8aa339d"
      },
      "execution_count": 24,
      "outputs": [
        {
          "output_type": "execute_result",
          "data": {
            "text/plain": [
              "'/content/drive/MyDrive/Flower_Color_Detection/n_model.h5'"
            ],
            "application/vnd.google.colaboratory.intrinsic+json": {
              "type": "string"
            }
          },
          "metadata": {},
          "execution_count": 24
        }
      ]
    },
    {
      "cell_type": "code",
      "source": [
        "from keras.models import model_from_json\n",
        "json_file = open('n_model.json', 'r')\n",
        "loaded_model_json = json_file.read()\n",
        "json_file.close()\n",
        "loaded_model = model_from_json(loaded_model_json)\n",
        "# load weights into new model\n",
        "loaded_model.load_weights(\"n_model.h5\")"
      ],
      "metadata": {
        "id": "wqLTZXzCJcL3"
      },
      "execution_count": 5,
      "outputs": []
    },
    {
      "cell_type": "markdown",
      "source": [
        "# Fast Api Implementation "
      ],
      "metadata": {
        "id": "CQgEaIcDIQFV"
      }
    },
    {
      "cell_type": "markdown",
      "source": [
        "## Create and Install the requirements.txt"
      ],
      "metadata": {
        "id": "T_fDJttkFNNV"
      }
    },
    {
      "cell_type": "code",
      "source": [
        "%%writefile requirements.txt\n",
        "colabcode\n",
        "fastapi\n",
        "uvicorn\n",
        "python-multipart\n",
        "tensorflow \n",
        "keras"
      ],
      "metadata": {
        "colab": {
          "base_uri": "https://localhost:8080/"
        },
        "id": "_YFdmsg8C542",
        "outputId": "3ac6cede-60d6-4843-ad5c-eebc1f36e970"
      },
      "execution_count": 28,
      "outputs": [
        {
          "output_type": "stream",
          "name": "stdout",
          "text": [
            "Overwriting requirements.txt\n"
          ]
        }
      ]
    },
    {
      "cell_type": "code",
      "source": [
        "!pip install -r requirements.txt"
      ],
      "metadata": {
        "id": "oCweLHKtDNPn"
      },
      "execution_count": null,
      "outputs": []
    },
    {
      "cell_type": "markdown",
      "source": [
        "#  Download and install Ngrok which is used for exposing the localhost so we can view the API with Google Colab."
      ],
      "metadata": {
        "id": "JZ5oD8cHGY30"
      }
    },
    {
      "cell_type": "code",
      "source": [
        "!wget https://bin.equinox.io/c/bNyj1mQVY4c/ngrok-v3-stable-linux-amd64.tgz"
      ],
      "metadata": {
        "colab": {
          "base_uri": "https://localhost:8080/"
        },
        "id": "Df4XQGwxTWoP",
        "outputId": "fc711de8-3561-4456-99b9-a3bf908613cb"
      },
      "execution_count": 30,
      "outputs": [
        {
          "output_type": "stream",
          "name": "stdout",
          "text": [
            "--2022-06-17 01:14:57--  https://bin.equinox.io/c/bNyj1mQVY4c/ngrok-v3-stable-linux-amd64.tgz\n",
            "Resolving bin.equinox.io (bin.equinox.io)... 54.161.241.46, 52.202.168.65, 18.205.222.128, ...\n",
            "Connecting to bin.equinox.io (bin.equinox.io)|54.161.241.46|:443... connected.\n",
            "HTTP request sent, awaiting response... 200 OK\n",
            "Length: 7247863 (6.9M) [application/octet-stream]\n",
            "Saving to: ‘ngrok-v3-stable-linux-amd64.tgz’\n",
            "\n",
            "ngrok-v3-stable-lin 100%[===================>]   6.91M  38.9MB/s    in 0.2s    \n",
            "\n",
            "2022-06-17 01:14:57 (38.9 MB/s) - ‘ngrok-v3-stable-linux-amd64.tgz’ saved [7247863/7247863]\n",
            "\n"
          ]
        }
      ]
    },
    {
      "cell_type": "code",
      "source": [
        "!tar -xvzf /content/ngrok-v3-stable-linux-amd64.tgz"
      ],
      "metadata": {
        "colab": {
          "base_uri": "https://localhost:8080/"
        },
        "id": "BSBbyxP_TWrb",
        "outputId": "0b191999-6476-4efb-93e8-e04f069d420c"
      },
      "execution_count": 31,
      "outputs": [
        {
          "output_type": "stream",
          "name": "stdout",
          "text": [
            "ngrok\n"
          ]
        }
      ]
    },
    {
      "cell_type": "code",
      "source": [
        "!ngrok authtoken 2ALgApP1I9D6J2KNKV6mvqGwIhK_7saVZGBHbGqwD5otc8X5S"
      ],
      "metadata": {
        "colab": {
          "base_uri": "https://localhost:8080/"
        },
        "id": "l6sIjpzNUPCX",
        "outputId": "483d66f6-c983-4245-9ee0-e52f6a8a214c"
      },
      "execution_count": 32,
      "outputs": [
        {
          "output_type": "stream",
          "name": "stdout",
          "text": [
            "Authtoken saved to configuration file: /root/.ngrok2/ngrok.yml\n"
          ]
        }
      ]
    },
    {
      "cell_type": "markdown",
      "source": [
        "# Instantiate the Colab Code module and the run the next cell to create the fastapi app."
      ],
      "metadata": {
        "id": "rYCTlOwYGhmW"
      }
    },
    {
      "cell_type": "code",
      "source": [
        "#!pip install colabcode\n",
        "from colabcode import ColabCode"
      ],
      "metadata": {
        "id": "59_wOekbULCc"
      },
      "execution_count": 33,
      "outputs": []
    },
    {
      "cell_type": "code",
      "source": [
        "import uvicorn\n",
        "from fastapi import FastAPI, File, UploadFile, Response\n",
        "from fastapi.responses import StreamingResponse, FileResponse\n",
        "import numpy as np\n",
        "import io\n",
        "from PIL import Image\n",
        "import cv2\n",
        "from keras.models import model_from_json\n",
        "\n",
        "\n",
        "json_file = open('n_model.json', 'r')\n",
        "loaded_model_json = json_file.read()\n",
        "json_file.close()\n",
        "loaded_model = model_from_json(loaded_model_json)\n",
        "# load weights into new model\n",
        "loaded_model.load_weights(\"n_model.h5\")\n",
        "\n",
        "app = FastAPI()\n",
        "\n",
        "Color_dict = {1:\"Greenish\",2:\"Pink/Purple\",3:\"Yellowish/White\",4:\"Redish/Brown/Orange\"}\n",
        "\n",
        "@app.post(\"/\")\n",
        "async def root(file: UploadFile = File(...)):\n",
        "\n",
        "    contents = io.BytesIO(await file.read())\n",
        "    file_bytes = np.asarray(bytearray(contents.read()), dtype=np.uint8)\n",
        "    img = cv2.imdecode(file_bytes, cv2.IMREAD_COLOR)\n",
        "    # res, im_png = cv2.imencode(\".png\", img)\n",
        "    im2 = cv2.cvtColor(img, cv2.COLOR_BGR2RGB)\n",
        "\n",
        "    im2 = cv2.resize(im2, (img_width, img_height)).astype(np.float32)\n",
        "    im2 = np.expand_dims(im2, axis = 0)/255 \n",
        "\n",
        "    color = np.argmax(model.predict(im2)) \n",
        "\n",
        "    return {\"Color\":Color_dict[color])}\n",
        "\n"
      ],
      "metadata": {
        "id": "A4jrOsPtTWwR"
      },
      "execution_count": 46,
      "outputs": []
    },
    {
      "cell_type": "code",
      "source": [
        "cc = ColabCode(port=18000, code=False)"
      ],
      "metadata": {
        "id": "Wn13S_fLXKhy"
      },
      "execution_count": 35,
      "outputs": []
    },
    {
      "cell_type": "markdown",
      "source": [
        "# The API can then be viewed using the Public Url Generated by Colab Code."
      ],
      "metadata": {
        "id": "Slner_snGsrx"
      }
    },
    {
      "cell_type": "code",
      "source": [
        "cc.run_app(app=app)"
      ],
      "metadata": {
        "colab": {
          "base_uri": "https://localhost:8080/"
        },
        "id": "ke1uWQY4Y2as",
        "outputId": "d44657fc-0875-42ae-cab9-0afe419b24bd"
      },
      "execution_count": null,
      "outputs": [
        {
          "metadata": {
            "tags": null
          },
          "name": "stdout",
          "output_type": "stream",
          "text": [
            "Public URL: NgrokTunnel: \"https://4539-35-229-19-31.ngrok.io\" -> \"http://localhost:18000\"\n"
          ]
        },
        {
          "metadata": {
            "tags": null
          },
          "name": "stderr",
          "output_type": "stream",
          "text": [
            "INFO:     Started server process [1049]\n",
            "INFO:     Waiting for application startup.\n",
            "INFO:     Application startup complete.\n",
            "INFO:     Uvicorn running on http://127.0.0.1:18000 (Press CTRL+C to quit)\n"
          ]
        },
        {
          "metadata": {
            "tags": null
          },
          "name": "stdout",
          "output_type": "stream",
          "text": [
            "INFO:     197.149.127.196:0 - \"GET / HTTP/1.1\" 405 Method Not Allowed\n",
            "INFO:     102.89.43.203:0 - \"GET / HTTP/1.1\" 405 Method Not Allowed\n",
            "INFO:     102.89.43.203:0 - \"GET /favicon.ico HTTP/1.1\" 404 Not Found\n",
            "INFO:     102.89.43.203:0 - \"GET /docs HTTP/1.1\" 200 OK\n",
            "INFO:     102.89.43.203:0 - \"GET /openapi.json HTTP/1.1\" 200 OK\n",
            "INFO:     197.149.127.197:0 - \"GET /docs HTTP/1.1\" 200 OK\n",
            "INFO:     197.149.127.197:0 - \"GET /openapi.json HTTP/1.1\" 200 OK\n",
            "INFO:     102.89.43.203:0 - \"POST / HTTP/1.1\" 200 OK\n"
          ]
        }
      ]
    },
    {
      "cell_type": "code",
      "source": [
        ""
      ],
      "metadata": {
        "id": "yF0lyzo2OpyQ"
      },
      "execution_count": null,
      "outputs": []
    }
  ]
}